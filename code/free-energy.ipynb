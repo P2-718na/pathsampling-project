{
 "cells": [
  {
   "cell_type": "code",
   "execution_count": 2,
   "metadata": {
    "collapsed": true,
    "ExecuteTime": {
     "end_time": "2024-03-22T15:59:23.987440Z",
     "start_time": "2024-03-22T15:58:52.024466Z"
    }
   },
   "outputs": [
    {
     "name": "stdout",
     "output_type": "stream",
     "text": [
      "#\"Step\",\"Potential Energy (kJ/mole)\",\"Temperature (K)\"\n",
      "1000,-22145.438327792683,271.3875853811466\n",
      "2000,-21742.02959800104,291.4870129059934\n",
      "3000,-21550.924910071888,294.4386591270317\n",
      "4000,-21759.17531252245,301.3952518318595\n",
      "5000,-21825.77269006113,309.888881496236\n",
      "6000,-21670.965927604237,301.66608830746713\n",
      "7000,-21509.411064628162,289.41199711253853\n",
      "8000,-21359.04158735613,301.50095956192484\n",
      "9000,-21398.714938167133,301.42762926686385\n",
      "10000,-21532.250067237415,298.5355067492306\n"
     ]
    }
   ],
   "source": [
    "from openmm.app import *\n",
    "from openmm import *\n",
    "from openmm.unit import *\n",
    "from sys import stdout\n",
    "\n",
    "pdb = PDBFile('AD_initial_frame.pdb')\n",
    "\n",
    "\n",
    "forcefield = ForceField('amber96.xml', 'tip3p.xml')\n",
    "\n",
    "system = forcefield.createSystem(pdb.topology, nonbondedMethod=PME,\n",
    "        nonbondedCutoff=1*nanometer, constraints=HBonds)\n",
    "integrator = LangevinMiddleIntegrator(300*kelvin, 1/picosecond, 0.004*picoseconds)\n",
    "simulation = Simulation(pdb.topology, system, integrator)\n",
    "simulation.context.setPositions(pdb.positions)\n",
    "simulation.minimizeEnergy()\n",
    "simulation.reporters.append(PDBReporter('output.pdb', 1000))\n",
    "simulation.reporters.append(StateDataReporter(stdout, 1000, step=True,\n",
    "        potentialEnergy=True, temperature=True))\n",
    "simulation.step(10000)\n"
   ]
  },
  {
   "cell_type": "code",
   "execution_count": 5,
   "outputs": [
    {
     "ename": "AttributeError",
     "evalue": "'State' object has no attribute 'getEnergy'",
     "output_type": "error",
     "traceback": [
      "\u001B[0;31m---------------------------------------------------------------------------\u001B[0m",
      "\u001B[0;31mAttributeError\u001B[0m                            Traceback (most recent call last)",
      "Cell \u001B[0;32mIn[5], line 3\u001B[0m\n\u001B[1;32m      1\u001B[0m simulation\u001B[38;5;241m.\u001B[39mcontext\u001B[38;5;241m.\u001B[39msetPositions(pdb\u001B[38;5;241m.\u001B[39mpositions)\n\u001B[1;32m      2\u001B[0m state \u001B[38;5;241m=\u001B[39m simulation\u001B[38;5;241m.\u001B[39mcontext\u001B[38;5;241m.\u001B[39mgetState(getEnergy\u001B[38;5;241m=\u001B[39m\u001B[38;5;28;01mTrue\u001B[39;00m)\n\u001B[0;32m----> 3\u001B[0m \u001B[38;5;28mprint\u001B[39m(\u001B[43mstate\u001B[49m\u001B[38;5;241;43m.\u001B[39;49m\u001B[43mgetEnergy\u001B[49m())\n",
      "\u001B[0;31mAttributeError\u001B[0m: 'State' object has no attribute 'getEnergy'"
     ]
    }
   ],
   "source": [
    "simulation.context.setPositions(pdb.positions)\n",
    "state = simulation.context.getState(getEnergy=True)\n",
    "print(state.getPotentialEnergy())\n"
   ],
   "metadata": {
    "collapsed": false,
    "ExecuteTime": {
     "end_time": "2024-03-22T16:03:04.085288Z",
     "start_time": "2024-03-22T16:03:04.012395Z"
    }
   }
  },
  {
   "cell_type": "code",
   "execution_count": null,
   "outputs": [],
   "source": [],
   "metadata": {
    "collapsed": false
   }
  }
 ],
 "metadata": {
  "kernelspec": {
   "display_name": "Python 3",
   "language": "python",
   "name": "python3"
  },
  "language_info": {
   "codemirror_mode": {
    "name": "ipython",
    "version": 2
   },
   "file_extension": ".py",
   "mimetype": "text/x-python",
   "name": "python",
   "nbconvert_exporter": "python",
   "pygments_lexer": "ipython2",
   "version": "2.7.6"
  }
 },
 "nbformat": 4,
 "nbformat_minor": 0
}
