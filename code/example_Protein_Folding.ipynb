{
 "cells": [
  {
   "cell_type": "markdown",
   "id": "4d2ea6f4",
   "metadata": {},
   "source": [
    "# Protein Folding"
   ]
  },
  {
   "cell_type": "markdown",
   "id": "aa2fe29c",
   "metadata": {},
   "source": [
    "### Introduction"
   ]
  },
  {
   "cell_type": "markdown",
   "id": "ffa82037",
   "metadata": {},
   "source": [
    "The structure and function of many natural and human-engineered\n",
    "proteins is still only poorly understood. As a result, our understanding of\n",
    "processes connected with protein folding, such as those encountered in\n",
    "Alzheimer’s disease, vaccine development, and crop improvement\n",
    "research, has remained limited.\n",
    "\n",
    "Unfolded polypeptides have a very large number of degrees of freedom\n",
    "and thus an enormous number of potential conformations. For example, a\n",
    "chain with $100$ aminoacids has on the order of $10^{47}$ conformations. In\n",
    "reality, however, many proteins fold to their native structure within\n",
    "seconds. This is known as Levinthal’s paradox [1].\n",
    "\n",
    "The exponential growth of potential conformations with chain length\n",
    "makes the problem intractable for classical computers. In the quantum\n",
    "framework, our resource-efficient algorithm scales linearly with\n",
    "the number of aminoacids N."
   ]
  },
  {
   "cell_type": "markdown",
   "id": "58f24401",
   "metadata": {},
   "source": [
    "The goal of this work is to determine the minimum energy conformation of a protein. Starting from a random configuration, the protein's structure is optimized to lower the energy. This can be achieved by encoding the protein folding problem into a qubit operator and ensuring that all physical constraints are satisfied."
   ]
  },
  {
   "cell_type": "markdown",
   "id": "76928cec",
   "metadata": {},
   "source": [
    "For the problem encoding we use:\n",
    "\n",
    "- Configuration qubits: qubits that are used to describe the configurations and the relative position of the different beads\n",
    "\n",
    "- Interaction qubits: qubits that encode interactions between the different aminoacids\n",
    "\n",
    "For our case we use a tetrahedral lattice (diamond shape lattice) where we encode the movement through the configuration qubits (see image below).\n",
    "\n",
    "<img src=\"aux_files/lattice_protein.png\" width=\"300\">"
   ]
  },
  {
   "cell_type": "markdown",
   "id": "50dc1324",
   "metadata": {},
   "source": [
    "The Hamiltonian of the system for a set of qubits $\\mathbf{q}=\\{\\mathbf{q}_{cf}, \\mathbf{q}_{in}\\}$ is\n",
    "\n",
    "$$H(\\mathbf{q}) = H_{gc}(\\mathbf{q}_{cf}) + H_{ch}(\\mathbf{q}_{cf}) + H_{in}(\\mathbf{q}_{cf}, \\mathbf{q}_{in}) $$\n",
    "\n",
    "where\n",
    "\n",
    "- $H_{gc}$ is the geometrical constraint term (governing the growth of the primary sequence of aminoacids without bifurcations)\n",
    "\n",
    "- $H_{ch}$ is the chirality constraint (enforcing the right stereochemistry for the system)\n",
    "\n",
    "- $H_{in}$ is the interaction energy terms of the system. In our case we consider only nearest neighbor interactions."
   ]
  },
  {
   "cell_type": "markdown",
   "id": "0d7f4dbb",
   "metadata": {},
   "source": [
    "Further details about the used model and the encoding of the problem can be found in [2]."
   ]
  },
  {
   "cell_type": "code",
   "execution_count": 1,
   "id": "4a022975",
   "metadata": {
    "ExecuteTime": {
     "end_time": "2024-02-13T15:37:29.838635Z",
     "start_time": "2024-02-13T15:37:26.177804Z"
    }
   },
   "outputs": [],
   "source": [
    "from qiskit_research.protein_folding.interactions.random_interaction import (\n",
    "    RandomInteraction\n",
    ")\n",
    "from qiskit_research.protein_folding.interactions.miyazawa_jernigan_interaction import (\n",
    "    MiyazawaJerniganInteraction\n",
    ")\n",
    "\n",
    "from qiskit_research.protein_folding.peptide.peptide import Peptide\n",
    "from qiskit_research.protein_folding.protein_folding_problem import (\n",
    "    ProteinFoldingProblem\n",
    ")\n",
    "\n",
    "from qiskit_research.protein_folding.penalty_parameters import PenaltyParameters\n",
    "\n",
    "from qiskit.utils import algorithm_globals, QuantumInstance\n",
    "\n",
    "algorithm_globals.random_seed = 23\n"
   ]
  },
  {
   "cell_type": "markdown",
   "id": "51e540f5",
   "metadata": {},
   "source": [
    "### Protein Main Chain"
   ]
  },
  {
   "cell_type": "markdown",
   "id": "15a69286",
   "metadata": {},
   "source": [
    "The Protein consists of a main chain that is a linear chain of aminoacids. For the naming of different residues we use the one-letter code as defined in Ref. [3]. Further details about the naming and the type of aminoacids can also be found in [4].\n",
    "\n",
    "For this particular case we demonstrate the generation of the qubit operator in a neuropeptide with the main chain consisting of 7 aminoacids with letter codes APRLRFY (see also [2])."
   ]
  },
  {
   "cell_type": "code",
   "execution_count": 16,
   "id": "b78d077a",
   "metadata": {
    "ExecuteTime": {
     "end_time": "2024-02-13T15:38:17.407302Z",
     "start_time": "2024-02-13T15:38:17.395290Z"
    }
   },
   "outputs": [],
   "source": [
    "main_chain = \"DYMERWYRY\""
   ]
  },
  {
   "cell_type": "markdown",
   "id": "2b28a00e",
   "metadata": {},
   "source": [
    "### Side Chains"
   ]
  },
  {
   "cell_type": "markdown",
   "id": "b99c81a8",
   "metadata": {},
   "source": [
    "Beyond the main chain of the protein there may be aminoacids attached to the residues of the main chain. Our model allows for side chains of the maximum length of one. Elongated side chains would require the introduction of additional penalty terms which are still under development. In this example we do not consider any side chains to keep the real structure of the neuropeptide."
   ]
  },
  {
   "cell_type": "code",
   "execution_count": 17,
   "id": "f0cea914",
   "metadata": {
    "ExecuteTime": {
     "end_time": "2024-02-13T15:38:18.073825Z",
     "start_time": "2024-02-13T15:38:18.063254Z"
    }
   },
   "outputs": [],
   "source": [
    "side_chains = [\"\"] * len(main_chain)"
   ]
  },
  {
   "cell_type": "markdown",
   "id": "203e288b",
   "metadata": {},
   "source": [
    "### Interaction between Aminoacids"
   ]
  },
  {
   "cell_type": "markdown",
   "id": "72ff748d",
   "metadata": {},
   "source": [
    "For the description of inter-residue contacts for proteins we use knowledge-based (statistical) potentials derived using quasi-chemical approximation. The potentials used here are introduced by Miyazawa, S. and Jernigan, R. L. in [5].\n",
    "\n",
    "Beyond this model we also allow for random contact maps (interactions) that provide a random interaction map. One can also introduce a custom interaction map that enhances certain configurations of the protein (e.g. alpha helix, beta sheet etc)."
   ]
  },
  {
   "cell_type": "code",
   "execution_count": 18,
   "id": "cca5df13",
   "metadata": {
    "ExecuteTime": {
     "end_time": "2024-02-13T15:38:18.636079Z",
     "start_time": "2024-02-13T15:38:18.598644Z"
    }
   },
   "outputs": [],
   "source": [
    "random_interaction = RandomInteraction()\n",
    "mj_interaction = MiyazawaJerniganInteraction()"
   ]
  },
  {
   "cell_type": "markdown",
   "id": "bb5c3ec8",
   "metadata": {},
   "source": [
    "### Physical Constraints"
   ]
  },
  {
   "cell_type": "markdown",
   "id": "5adb4c73",
   "metadata": {},
   "source": [
    "To ensure that all physical constraints are respected we introduce penalty functions. The different penalty terms used are:\n",
    "\n",
    "- penalty_chiral: A penalty parameter used to impose the right chirality.\n",
    "\n",
    "- penalty_back: A penalty parameter used to penalize turns along the same axis. This term is used to eliminate sequences where the same axis is chosen twice in a row. In this way we do not allow for a chain to fold back into itself.\n",
    "\n",
    "- penalty_1: A penalty parameter used to penalize local overlap between beads within a nearest neighbor contact."
   ]
  },
  {
   "cell_type": "code",
   "execution_count": 19,
   "outputs": [],
   "source": [
    "from qiskit_research.protein_folding.penalty_parameters import PenaltyParameters"
   ],
   "metadata": {
    "collapsed": false,
    "ExecuteTime": {
     "end_time": "2024-02-13T15:38:19.019078Z",
     "start_time": "2024-02-13T15:38:19.001504Z"
    }
   }
  },
  {
   "cell_type": "code",
   "execution_count": 20,
   "id": "d96678c3",
   "metadata": {
    "ExecuteTime": {
     "end_time": "2024-02-13T15:38:19.178814Z",
     "start_time": "2024-02-13T15:38:19.169634Z"
    }
   },
   "outputs": [],
   "source": [
    "penalty_back = 10\n",
    "penalty_chiral = 10\n",
    "penalty_1 = 10\n",
    "\n",
    "penalty_terms = PenaltyParameters(penalty_chiral, penalty_back, penalty_1)"
   ]
  },
  {
   "cell_type": "markdown",
   "id": "29807064",
   "metadata": {},
   "source": [
    "### Peptide Definition\n"
   ]
  },
  {
   "cell_type": "markdown",
   "id": "3eafb4dd",
   "metadata": {},
   "source": [
    "Based on the main chain and possible side chains we define the peptide object that includes all the structural information of the modeled system."
   ]
  },
  {
   "cell_type": "code",
   "execution_count": 21,
   "id": "94b24aec",
   "metadata": {
    "ExecuteTime": {
     "end_time": "2024-02-13T15:38:19.718462Z",
     "start_time": "2024-02-13T15:38:19.663287Z"
    }
   },
   "outputs": [],
   "source": [
    "peptide = Peptide(main_chain, side_chains)"
   ]
  },
  {
   "cell_type": "markdown",
   "id": "48deb63f",
   "metadata": {},
   "source": [
    "### Protein Folding Problem"
   ]
  },
  {
   "cell_type": "markdown",
   "id": "729f35c0",
   "metadata": {},
   "source": [
    "Based on the defined peptide, the interaction (contact map) and the penalty terms we defined for our model we define the protein folding problem that returns qubit operators.\n"
   ]
  },
  {
   "cell_type": "code",
   "execution_count": 22,
   "id": "8d0408ed",
   "metadata": {
    "ExecuteTime": {
     "end_time": "2024-02-13T15:38:22.385550Z",
     "start_time": "2024-02-13T15:38:20.172643Z"
    }
   },
   "outputs": [],
   "source": [
    "protein_folding_problem = ProteinFoldingProblem(peptide, mj_interaction, penalty_terms)\n",
    "qubit_op = protein_folding_problem.qubit_op()"
   ]
  },
  {
   "cell_type": "code",
   "execution_count": 23,
   "id": "29860ed3",
   "metadata": {
    "scrolled": true,
    "ExecuteTime": {
     "end_time": "2024-02-13T15:38:22.398271Z",
     "start_time": "2024-02-13T15:38:22.392682Z"
    }
   },
   "outputs": [
    {
     "name": "stdout",
     "output_type": "stream",
     "text": [
      "5763.015999999998 * IIIIIIIIIIIIIIIII\n",
      "+ 1240.0 * IIIIIIIIIIIIIIZII\n",
      "- 550.0 * IIIIIIIIIIIIIIIZZ\n",
      "+ 550.0 * IIIIIIIIIIIIIIZZZ\n",
      "- 652.5 * IIIIIIIIIIIIZIZII\n",
      "- 652.5 * IIIIIIIIIIIIIZIZI\n",
      "- 652.5 * IIIIIIIIIIIIZZZZI\n",
      "- 550.0 * IIIIIIIIIIZIZIIII\n",
      "- 550.0 * IIIIIIIIIIIZIZIII\n",
      "- 550.0 * IIIIIIIIIIZZZZIII\n",
      "- 457.5 * IIIIIIIIZIZIIIIII\n",
      "- 457.5 * IIIIIIIIIZIZIIIII\n",
      "- 457.5 * IIIIIIIIZZZZIIIII\n",
      "- 227.5 * IIIIIIZIZIIIIIIII\n",
      "- 227.5 * IIIIIIIZIZIIIIIII\n",
      "- 227.5 * IIIIIIZZZZIIIIIII\n",
      "+ 690.0 * IIIIIIIIIIIIIIZZI\n",
      "- 1250.0 * IIIIIIIIIIIIZIIII\n",
      "- 695.0 * IIIIIIIIIIIIZZIII\n",
      "+ 460.0 * IIIIIIIIIIIIIIIIZ\n",
      "+ 555.0 * IIIIIIIIIIIIIZIIZ\n",
      "- 555.0 * IIIIIIIIIIIIZZIIZ\n",
      "- 904.3725 * IIIIIZIIIIIIIIIII\n",
      "- 295.0 * IIIIIZIIIIIIIIZII\n",
      "- 197.5 * IIIIIZIIIIIIIIZZI\n",
      "+ 302.5 * IIIIIZIIIIIIZIIII\n",
      "+ 202.5 * IIIIIZIIIIIIZZIII\n",
      "+ 100.0 * IIIIIZIIIIIIZIZII\n",
      "+ 100.0 * IIIIIZIIIIIIIZIZI\n",
      "+ 100.0 * IIIIIZIIIIIIZZZZI\n",
      "- 200.0 * IIIIIZIIIIIIIIIIZ\n",
      "+ 97.5 * IIIIIZIIIIIIIIIZZ\n",
      "- 97.5 * IIIIIZIIIIIIIIZZZ\n",
      "- 100.0 * IIIIIZIIIIIIIZIIZ\n",
      "+ 100.0 * IIIIIZIIIIIIZZIIZ\n",
      "+ 230.0 * IIIIIIIIIIIIIIIZI\n",
      "- 230.0 * IIIIIIIIIIIIIZIII\n",
      "+ 2.5 * IIIIIZIIIIIIIIIZI\n",
      "- 2.5 * IIIIIZIIIIIIIZIII\n",
      "+ 945.0 * IIIIIIIIIIZIIIIII\n",
      "+ 490.0 * IIIIIIIIIIZZIIIII\n",
      "+ 555.0 * IIIIIIIIIIZIIIZII\n",
      "+ 555.0 * IIIIIIIIIIIZIIIZI\n",
      "+ 555.0 * IIIIIIIIIIZZIIZZI\n",
      "- 455.0 * IIIIIIIIIIIZIIIIZ\n",
      "+ 455.0 * IIIIIIIIIIZZIIIIZ\n",
      "+ 7.5 * IIIIIZIIIIZIIIIII\n",
      "+ 5.0 * IIIIIZIIIIZZIIIII\n",
      "+ 2.5 * IIIIIZIIIIZIIIZII\n",
      "+ 2.5 * IIIIIZIIIIIZIIIZI\n",
      "+ 2.5 * IIIIIZIIIIZZIIZZI\n",
      "- 2.5 * IIIIIZIIIIZIZIIII\n",
      "- 2.5 * IIIIIZIIIIIZIZIII\n",
      "- 2.5 * IIIIIZIIIIZZZZIII\n",
      "- 2.5 * IIIIIZIIIIIZIIIIZ\n",
      "+ 2.5 * IIIIIZIIIIZZIIIIZ\n",
      "- 762.5 * IIIIIIIIZIIIIIIII\n",
      "- 400.0 * IIIIIIIIZZIIIIIII\n",
      "- 462.5 * IIIIIIIIZIIIIIZII\n",
      "- 462.5 * IIIIIIIIIZIIIIIZI\n",
      "- 462.5 * IIIIIIIIZZIIIIZZI\n",
      "+ 460.0 * IIIIIIIIZIIIZIIII\n",
      "+ 460.0 * IIIIIIIIIZIIIZIII\n",
      "+ 460.0 * IIIIIIIIZZIIZZIII\n",
      "+ 362.5 * IIIIIIIIIZIIIIIIZ\n",
      "- 362.5 * IIIIIIIIZZIIIIIIZ\n",
      "- 1616.9515000000004 * IIIIZIIIIIIIIIIII\n",
      "- 400.0 * IIIIZIIIIIIIIIZII\n",
      "- 267.5 * IIIIZIIIIIIIIIZZI\n",
      "+ 400.0 * IIIIZIIIIIIIZIIII\n",
      "+ 267.5 * IIIIZIIIIIIIZZIII\n",
      "- 400.0 * IIIIZIIIIIZIIIIII\n",
      "- 267.5 * IIIIZIIIIIZZIIIII\n",
      "+ 407.5 * IIIIZIIIZIIIIIIII\n",
      "+ 272.5 * IIIIZIIIZZIIIIIII\n",
      "+ 132.5 * IIIIZIIIIIIIZIZII\n",
      "- 132.5 * IIIIZIIIIIZIIIZII\n",
      "+ 135.0 * IIIIZIIIZIIIIIZII\n",
      "+ 132.5 * IIIIZIIIIIIIIZIZI\n",
      "- 132.5 * IIIIZIIIIIIZIIIZI\n",
      "+ 135.0 * IIIIZIIIIZIIIIIZI\n",
      "+ 132.5 * IIIIZIIIIIIIZZZZI\n",
      "- 132.5 * IIIIZIIIIIZZIIZZI\n",
      "+ 135.0 * IIIIZIIIZZIIIIZZI\n",
      "+ 132.5 * IIIIZIIIIIZIZIIII\n",
      "- 135.0 * IIIIZIIIZIIIZIIII\n",
      "+ 132.5 * IIIIZIIIIIIZIZIII\n",
      "- 135.0 * IIIIZIIIIZIIIZIII\n",
      "+ 132.5 * IIIIZIIIIIZZZZIII\n",
      "- 135.0 * IIIIZIIIZZIIZZIII\n",
      "+ 135.0 * IIIIZIIIZIZIIIIII\n",
      "+ 135.0 * IIIIZIIIIZIZIIIII\n",
      "+ 135.0 * IIIIZIIIZZZZIIIII\n",
      "- 270.0 * IIIIZIIIIIIIIIIIZ\n",
      "+ 132.5 * IIIIZIIIIIIIIIIZZ\n",
      "- 132.5 * IIIIZIIIIIIIIIZZZ\n",
      "- 132.5 * IIIIZIIIIIIIIZIIZ\n",
      "+ 132.5 * IIIIZIIIIIIIZZIIZ\n",
      "+ 132.5 * IIIIZIIIIIIZIIIIZ\n",
      "- 132.5 * IIIIZIIIIIZZIIIIZ\n",
      "- 135.0 * IIIIZIIIIZIIIIIIZ\n",
      "+ 135.0 * IIIIZIIIZZIIIIIIZ\n",
      "+ 235.0 * IIIIIIIIIIIZIIIII\n",
      "- 130.0 * IIIIIIIIIZIIIIIII\n",
      "+ 2.5 * IIIIZIIIIIIIIIIZI\n",
      "- 2.5 * IIIIZIIIIIIIIZIII\n",
      "+ 2.5 * IIIIZIIIIIIZIIIII\n",
      "- 2.5 * IIIIZIIIIZIIIIIII\n",
      "+ 257.5 * IIIIIIZIIIIIIIIII\n",
      "+ 130.0 * IIIIIIZZIIIIIIIII\n",
      "+ 232.5 * IIIIIIZIIIIIIIZII\n",
      "+ 232.5 * IIIIIIIZIIIIIIIZI\n",
      "+ 232.5 * IIIIIIZZIIIIIIZZI\n",
      "- 230.0 * IIIIIIZIIIIIZIIII\n",
      "- 230.0 * IIIIIIIZIIIIIZIII\n",
      "- 230.0 * IIIIIIZZIIIIZZIII\n",
      "+ 230.0 * IIIIIIZIIIZIIIIII\n",
      "+ 230.0 * IIIIIIIZIIIZIIIII\n",
      "+ 230.0 * IIIIIIZZIIZZIIIII\n",
      "- 127.5 * IIIIIIIZIIIIIIIIZ\n",
      "+ 127.5 * IIIIIIZZIIIIIIIIZ\n",
      "+ 7.5 * IIIIZIZIIIIIIIIII\n",
      "+ 5.0 * IIIIZIZZIIIIIIIII\n",
      "+ 2.5 * IIIIZIZIIIIIIIZII\n",
      "+ 2.5 * IIIIZIIZIIIIIIIZI\n",
      "+ 2.5 * IIIIZIZZIIIIIIZZI\n",
      "- 2.5 * IIIIZIZIIIIIZIIII\n",
      "- 2.5 * IIIIZIIZIIIIIZIII\n",
      "- 2.5 * IIIIZIZZIIIIZZIII\n",
      "+ 2.5 * IIIIZIZIIIZIIIIII\n",
      "+ 2.5 * IIIIZIIZIIIZIIIII\n",
      "+ 2.5 * IIIIZIZZIIZZIIIII\n",
      "- 2.5 * IIIIZIZIZIIIIIIII\n",
      "- 2.5 * IIIIZIIZIZIIIIIII\n",
      "- 2.5 * IIIIZIZZZZIIIIIII\n",
      "- 2.5 * IIIIZIIZIIIIIIIIZ\n",
      "+ 2.5 * IIIIZIZZIIIIIIIIZ\n",
      "- 686.517 * IIIZIIIIIIIIIIIII\n",
      "- 190.0 * IIIZIIIIIIIIIIZII\n",
      "- 100.0 * IIIZIIIIIIIIIIIZI\n",
      "- 95.0 * IIIZIIIIIIIIIIZZI\n",
      "+ 190.0 * IIIZIIIIIIIIZIIII\n",
      "+ 100.0 * IIIZIIIIIIIIIZIII\n",
      "+ 95.0 * IIIZIIIIIIIIZZIII\n",
      "- 195.0 * IIIZIIIIIIZIIIIII\n",
      "- 102.5 * IIIZIIIIIIIZIIIII\n",
      "- 97.5 * IIIZIIIIIIZZIIIII\n",
      "+ 95.0 * IIIZIIIIIIIIZIZII\n",
      "- 97.5 * IIIZIIIIIIZIIIZII\n",
      "+ 95.0 * IIIZIIIIIIIIIZIZI\n",
      "- 97.5 * IIIZIIIIIIIZIIIZI\n",
      "+ 95.0 * IIIZIIIIIIIIZZZZI\n",
      "- 97.5 * IIIZIIIIIIZZIIZZI\n",
      "+ 97.5 * IIIZIIIIIIZIZIIII\n",
      "+ 97.5 * IIIZIIIIIIIZIZIII\n",
      "+ 97.5 * IIIZIIIIIIZZZZIII\n",
      "+ 95.0 * IIIZIIIIIIIIIIIZZ\n",
      "- 95.0 * IIIZIIIIIIIIIIZZZ\n",
      "- 95.0 * IIIZIIIIIIIIIZIIZ\n",
      "+ 95.0 * IIIZIIIIIIIIZZIIZ\n",
      "+ 97.5 * IIIZIIIIIIIZIIIIZ\n",
      "- 97.5 * IIIZIIIIIIZZIIIIZ\n",
      "+ 5.0 * IIIZIIIIIIIIIIIIZ\n",
      "- 5.0 * IIIZIIIIZIIIIIIII\n",
      "- 2.5 * IIIZIIIIIZIIIIIII\n",
      "- 2.5 * IIIZIIIIZZIIIIIII\n",
      "- 2.5 * IIIZIIIIZIIIIIZII\n",
      "- 2.5 * IIIZIIIIIZIIIIIZI\n",
      "- 2.5 * IIIZIIIIZZIIIIZZI\n",
      "+ 2.5 * IIIZIIIIZIIIZIIII\n",
      "+ 2.5 * IIIZIIIIIZIIIZIII\n",
      "+ 2.5 * IIIZIIIIZZIIZZIII\n",
      "- 2.5 * IIIZIIIIZIZIIIIII\n",
      "- 2.5 * IIIZIIIIIZIZIIIII\n",
      "- 2.5 * IIIZIIIIZZZZIIIII\n",
      "+ 2.5 * IIIZIIIIIZIIIIIIZ\n",
      "- 2.5 * IIIZIIIIZZIIIIIIZ\n",
      "+ 140.0 * IIIIIIIZIIIIIIIII\n",
      "- 1344.2500000000002 * IIZIIIIIIIIIIIIII\n",
      "- 265.0 * IIZIIIIIIIIIIIZII\n",
      "- 137.5 * IIZIIIIIIIIIIIIZI\n",
      "- 132.5 * IIZIIIIIIIIIIIZZI\n",
      "+ 265.0 * IIZIIIIIIIIIZIIII\n",
      "+ 137.5 * IIZIIIIIIIIIIZIII\n",
      "+ 132.5 * IIZIIIIIIIIIZZIII\n",
      "- 265.0 * IIZIIIIIIIZIIIIII\n",
      "- 137.5 * IIZIIIIIIIIZIIIII\n",
      "- 132.5 * IIZIIIIIIIZZIIIII\n",
      "+ 265.0 * IIZIIIIIZIIIIIIII\n",
      "+ 137.5 * IIZIIIIIIZIIIIIII\n",
      "+ 132.5 * IIZIIIIIZZIIIIIII\n",
      "- 270.0 * IIZIIIZIIIIIIIIII\n",
      "- 140.0 * IIZIIIIZIIIIIIIII\n",
      "- 135.0 * IIZIIIZZIIIIIIIII\n",
      "+ 132.5 * IIZIIIIIIIIIZIZII\n",
      "- 132.5 * IIZIIIIIIIZIIIZII\n",
      "+ 132.5 * IIZIIIIIZIIIIIZII\n",
      "- 135.0 * IIZIIIZIIIIIIIZII\n",
      "+ 132.5 * IIZIIIIIIIIIIZIZI\n",
      "- 132.5 * IIZIIIIIIIIZIIIZI\n",
      "+ 132.5 * IIZIIIIIIZIIIIIZI\n",
      "- 135.0 * IIZIIIIZIIIIIIIZI\n",
      "+ 132.5 * IIZIIIIIIIIIZZZZI\n",
      "- 132.5 * IIZIIIIIIIZZIIZZI\n",
      "+ 132.5 * IIZIIIIIZZIIIIZZI\n",
      "- 135.0 * IIZIIIZZIIIIIIZZI\n",
      "+ 132.5 * IIZIIIIIIIZIZIIII\n",
      "- 132.5 * IIZIIIIIZIIIZIIII\n",
      "+ 135.0 * IIZIIIZIIIIIZIIII\n",
      "+ 132.5 * IIZIIIIIIIIZIZIII\n",
      "- 132.5 * IIZIIIIIIZIIIZIII\n",
      "+ 135.0 * IIZIIIIZIIIIIZIII\n",
      "+ 132.5 * IIZIIIIIIIZZZZIII\n",
      "- 132.5 * IIZIIIIIZZIIZZIII\n",
      "+ 135.0 * IIZIIIZZIIIIZZIII\n",
      "+ 132.5 * IIZIIIIIZIZIIIIII\n",
      "- 135.0 * IIZIIIZIIIZIIIIII\n",
      "+ 132.5 * IIZIIIIIIZIZIIIII\n",
      "- 135.0 * IIZIIIIZIIIZIIIII\n",
      "+ 132.5 * IIZIIIIIZZZZIIIII\n",
      "- 135.0 * IIZIIIZZIIZZIIIII\n",
      "+ 135.0 * IIZIIIZIZIIIIIIII\n",
      "+ 135.0 * IIZIIIIZIZIIIIIII\n",
      "+ 135.0 * IIZIIIZZZZIIIIIII\n",
      "+ 132.5 * IIZIIIIIIIIIIIIZZ\n",
      "- 132.5 * IIZIIIIIIIIIIIZZZ\n",
      "- 132.5 * IIZIIIIIIIIIIZIIZ\n",
      "+ 132.5 * IIZIIIIIIIIIZZIIZ\n",
      "+ 132.5 * IIZIIIIIIIIZIIIIZ\n",
      "- 132.5 * IIZIIIIIIIZZIIIIZ\n",
      "- 132.5 * IIZIIIIIIZIIIIIIZ\n",
      "+ 132.5 * IIZIIIIIZZIIIIIIZ\n",
      "+ 135.0 * IIZIIIIZIIIIIIIIZ\n",
      "- 135.0 * IIZIIIZZIIIIIIIIZ\n",
      "+ 5.0 * IIZIIIIIIIIIIIIIZ\n",
      "- 591.5815 * IZIIIIIIIIIIIIIII\n",
      "+ 95.0 * IZIIIIIIIIIIZIZII\n",
      "- 95.0 * IZIIIIIIIIZIIIZII\n",
      "+ 97.5 * IZIIIIIIZIIIIIZII\n",
      "- 95.0 * IZIIIIIIIIIIIIZII\n",
      "+ 95.0 * IZIIIIIIIIIIIZIZI\n",
      "- 95.0 * IZIIIIIIIIIZIIIZI\n",
      "+ 97.5 * IZIIIIIIIZIIIIIZI\n",
      "+ 95.0 * IZIIIIIIIIIIZZZZI\n",
      "- 95.0 * IZIIIIIIIIZZIIZZI\n",
      "+ 97.5 * IZIIIIIIZZIIIIZZI\n",
      "+ 95.0 * IZIIIIIIIIZIZIIII\n",
      "- 97.5 * IZIIIIIIZIIIZIIII\n",
      "+ 95.0 * IZIIIIIIIIIIZIIII\n",
      "+ 95.0 * IZIIIIIIIIIZIZIII\n",
      "- 97.5 * IZIIIIIIIZIIIZIII\n",
      "+ 95.0 * IZIIIIIIIIZZZZIII\n",
      "- 97.5 * IZIIIIIIZZIIZZIII\n",
      "+ 97.5 * IZIIIIIIZIZIIIIII\n",
      "- 95.0 * IZIIIIIIIIZIIIIII\n",
      "+ 97.5 * IZIIIIIIIZIZIIIII\n",
      "+ 97.5 * IZIIIIIIZZZZIIIII\n",
      "+ 97.5 * IZIIIIIIZIIIIIIII\n",
      "+ 97.5 * IZIIIIIIIIIIIIIZZ\n",
      "- 97.5 * IZIIIIIIIIIIIIZZZ\n",
      "- 97.5 * IZIIIIIIIIIIIZIIZ\n",
      "+ 97.5 * IZIIIIIIIIIIZZIIZ\n",
      "+ 97.5 * IZIIIIIIIIIZIIIIZ\n",
      "- 97.5 * IZIIIIIIIIZZIIIIZ\n",
      "- 100.0 * IZIIIIIIIZIIIIIIZ\n",
      "+ 100.0 * IZIIIIIIZZIIIIIIZ\n",
      "+ 2.5 * IZIIIIIIIIIIIIIZI\n",
      "+ 2.5 * IZIIIIIIIIIIIIZZI\n",
      "- 2.5 * IZIIIIIIIIIIIZIII\n",
      "- 2.5 * IZIIIIIIIIIIZZIII\n",
      "+ 2.5 * IZIIIIIIIIIZIIIII\n",
      "+ 2.5 * IZIIIIIIIIZZIIIII\n",
      "- 2.5 * IZIIIIIIIZIIIIIII\n",
      "- 2.5 * IZIIIIIIZZIIIIIII\n",
      "+ 2.5 * IZIIIIZIIIIIIIIII\n",
      "+ 2.5 * IZIIIIZIIIIIIIZII\n",
      "+ 2.5 * IZIIIIIZIIIIIIIZI\n",
      "+ 2.5 * IZIIIIZZIIIIIIZZI\n",
      "- 2.5 * IZIIIIZIIIIIZIIII\n",
      "- 2.5 * IZIIIIIZIIIIIZIII\n",
      "- 2.5 * IZIIIIZZIIIIZZIII\n",
      "+ 2.5 * IZIIIIZIIIZIIIIII\n",
      "+ 2.5 * IZIIIIIZIIIZIIIII\n",
      "+ 2.5 * IZIIIIZZIIZZIIIII\n",
      "- 2.5 * IZIIIIZIZIIIIIIII\n",
      "- 2.5 * IZIIIIIZIZIIIIIII\n",
      "- 2.5 * IZIIIIZZZZIIIIIII\n",
      "- 2.5 * IZIIIIIZIIIIIIIIZ\n",
      "+ 2.5 * IZIIIIZZIIIIIIIIZ\n",
      "- 606.8435 * ZIIIIIIIIIIIIIIII\n",
      "+ 100.0 * ZIIIIIIIIIIIZIZII\n",
      "- 100.0 * ZIIIIIIIIIZIIIZII\n",
      "+ 100.0 * ZIIIIIIIZIIIIIZII\n",
      "- 102.5 * ZIIIIIZIIIIIIIZII\n",
      "+ 100.0 * ZIIIIIIIIIIIIZIZI\n",
      "- 100.0 * ZIIIIIIIIIIZIIIZI\n",
      "+ 100.0 * ZIIIIIIIIZIIIIIZI\n",
      "- 102.5 * ZIIIIIIZIIIIIIIZI\n",
      "+ 100.0 * ZIIIIIIIIIIIZZZZI\n",
      "- 100.0 * ZIIIIIIIIIZZIIZZI\n",
      "+ 100.0 * ZIIIIIIIZZIIIIZZI\n",
      "- 102.5 * ZIIIIIZZIIIIIIZZI\n",
      "+ 97.5 * ZIIIIIIIIIZIZIIII\n",
      "- 97.5 * ZIIIIIIIZIIIZIIII\n",
      "+ 100.0 * ZIIIIIZIIIIIZIIII\n",
      "+ 97.5 * ZIIIIIIIIIIZIZIII\n",
      "- 97.5 * ZIIIIIIIIZIIIZIII\n",
      "+ 100.0 * ZIIIIIIZIIIIIZIII\n",
      "+ 97.5 * ZIIIIIIIIIZZZZIII\n",
      "- 97.5 * ZIIIIIIIZZIIZZIII\n",
      "+ 100.0 * ZIIIIIZZIIIIZZIII\n",
      "+ 97.5 * ZIIIIIIIZIZIIIIII\n",
      "- 100.0 * ZIIIIIZIIIZIIIIII\n",
      "+ 97.5 * ZIIIIIIIIZIZIIIII\n",
      "- 100.0 * ZIIIIIIZIIIZIIIII\n",
      "+ 97.5 * ZIIIIIIIZZZZIIIII\n",
      "- 100.0 * ZIIIIIZZIIZZIIIII\n",
      "+ 100.0 * ZIIIIIZIZIIIIIIII\n",
      "+ 100.0 * ZIIIIIIZIZIIIIIII\n",
      "+ 100.0 * ZIIIIIZZZZIIIIIII\n",
      "+ 2.5 * ZIIIIIIIIIIIIIZII\n",
      "- 2.5 * ZIIIIIIIIIIIZIIII\n",
      "+ 2.5 * ZIIIIIIIIIZIIIIII\n",
      "- 2.5 * ZIIIIIIIZIIIIIIII\n",
      "+ 2.5 * ZIIIIIZIIIIIIIIII\n",
      "- 2.5 * ZIIIIIIIIIIIIIIZZ\n",
      "+ 2.5 * ZIIIIIIIIIIIIIZZZ\n",
      "+ 2.5 * ZIIIIIIIIIIIIZIIZ\n",
      "- 2.5 * ZIIIIIIIIIIIZZIIZ\n",
      "- 2.5 * ZIIIIIIIIIIZIIIIZ\n",
      "+ 2.5 * ZIIIIIIIIIZZIIIIZ\n",
      "+ 2.5 * ZIIIIIIIIZIIIIIIZ\n",
      "- 2.5 * ZIIIIIIIZZIIIIIIZ\n",
      "- 2.5 * ZIIIIIIZIIIIIIIIZ\n",
      "+ 2.5 * ZIIIIIZZIIIIIIIIZ\n"
     ]
    }
   ],
   "source": [
    "print(qubit_op)"
   ]
  },
  {
   "cell_type": "markdown",
   "id": "441ccc74",
   "metadata": {},
   "source": [
    "### Using VQE with CVaR expectation value for the solution of the problem"
   ]
  },
  {
   "cell_type": "markdown",
   "id": "e99e05de",
   "metadata": {},
   "source": [
    "The problem that we are tackling has now implemented all the physical constraints and has a diagonal Hamiltonian. For the particular case we are targeting the single bitstring that gives us the minimum energy (corresponding to the folded structure of the protein). Thus, we can use the Variational Quantum Eigensolver with Conditional Value at Risk (CVaR) expectation values for the solution of the problem and for finding the minimum configuration energy [6] . We follow the same approach as in Ref. [2] but here we use COBYLA for the classical optimization part. One can also use the standard VQE or QAOA algorithm for the solution of the problem, though as discussed in Ref. [2] CVaR is more suitable."
   ]
  },
  {
   "cell_type": "code",
   "execution_count": 24,
   "id": "5eb95499",
   "metadata": {
    "scrolled": true,
    "ExecuteTime": {
     "end_time": "2024-02-13T15:47:01.797306Z",
     "start_time": "2024-02-13T15:38:22.404353Z"
    }
   },
   "outputs": [
    {
     "name": "stdout",
     "output_type": "stream",
     "text": [
      "SamplingMinimumEigensolverResult:\n",
      "\tEigenvalue: 6.548643538168703\n",
      "\tBest measurement\n",
      ": {'state': 20261, 'bitstring': '00100111100100101', 'value': (-2.7550000000026102+0j), 'probability': 3.39797548264e-05}\n",
      "\n"
     ]
    }
   ],
   "source": [
    "from qiskit.circuit.library import RealAmplitudes\n",
    "from qiskit.algorithms.optimizers import COBYLA\n",
    "from qiskit.algorithms import NumPyMinimumEigensolver\n",
    "from qiskit.algorithms.minimum_eigensolvers import SamplingVQE\n",
    "from qiskit import execute, Aer\n",
    "from qiskit.primitives import Sampler\n",
    "\n",
    "# set classical optimizer\n",
    "optimizer = COBYLA(maxiter=50)\n",
    "\n",
    "# set variational ansatz\n",
    "ansatz = RealAmplitudes(reps=1)\n",
    "\n",
    "counts = []\n",
    "values = []\n",
    "\n",
    "\n",
    "def store_intermediate_result(eval_count, parameters, mean, std):\n",
    "    counts.append(eval_count)\n",
    "    values.append(mean)\n",
    "\n",
    "\n",
    "# initialize VQE using CVaR with alpha = 0.1\n",
    "vqe = SamplingVQE(\n",
    "    Sampler(),\n",
    "    ansatz=ansatz,\n",
    "    optimizer=optimizer,\n",
    "    aggregation=0.1,\n",
    "    callback=store_intermediate_result,\n",
    ")\n",
    "\n",
    "raw_result = vqe.compute_minimum_eigenvalue(qubit_op)\n",
    "print(raw_result)"
   ]
  },
  {
   "cell_type": "code",
   "execution_count": 25,
   "id": "7d51e6b4",
   "metadata": {
    "ExecuteTime": {
     "end_time": "2024-02-13T15:47:01.947478Z",
     "start_time": "2024-02-13T15:47:01.795045Z"
    }
   },
   "outputs": [
    {
     "data": {
      "text/plain": "<Figure size 640x480 with 2 Axes>",
      "image/png": "[encoded data removed]"
     },
     "metadata": {},
     "output_type": "display_data"
    }
   ],
   "source": [
    "import matplotlib.pyplot as plt\n",
    "\n",
    "fig = plt.figure()\n",
    "\n",
    "plt.plot(counts, values)\n",
    "plt.ylabel(\"Conformation Energy\")\n",
    "plt.xlabel(\"VQE Iterations\")\n",
    "\n",
    "fig.add_axes([0.44, 0.51, 0.44, 0.32])\n",
    "\n",
    "plt.plot(counts[40:], values[40:])\n",
    "plt.ylabel(\"Conformation Energy\")\n",
    "plt.xlabel(\"VQE Iterations\")\n",
    "plt.show()"
   ]
  },
  {
   "cell_type": "markdown",
   "id": "002b5c74",
   "metadata": {},
   "source": [
    "### Visualizing the answer"
   ]
  },
  {
   "cell_type": "markdown",
   "id": "2e2b6b22",
   "metadata": {},
   "source": [
    "In order to reduce computational costs, we have reduced the problem's qubit operator to the minimum amount of qubits needed to represent the shape of the protein. In order to decode the answer we need to understand how this has been done.\n",
    "* The shape of the protein has been encoded by a sequence of turns , $\\{0,1,2,3\\}$. Each turn represents a different direction in the lattice.\n",
    "* For a main bead of $N_{aminoacids}$ in a lattice, we need $N_{aminoacids}-1$ turns in order to represent its shape. However, the orientation of the protein is not relevant to its energy. Therefore the first two turns of the shape can be set to $[1,0]$ without loss of generality.\n",
    "* If the second bead does not have any side chain, we can also set the $6^{th}$ qubit to $[1]$ without breaking symmetry.\n",
    "* Since the length of the secondary chains is always limited to $1$ we only need one turn to describe the shape of the chain.\n",
    "\n",
    "The total amount of qubits we need to represent the shape of the protein will be $2(N_{aminoacids}-3)$ if there is a secondary chain coming out of the second bead or $2(N_{aminoacids}-3) - 1$, otherwise. All the other qubits will remain unused during the optimization process. See:"
   ]
  },
  {
   "cell_type": "code",
   "execution_count": 26,
   "id": "49a65992",
   "metadata": {
    "ExecuteTime": {
     "end_time": "2024-02-13T15:47:01.994509Z",
     "start_time": "2024-02-13T15:47:01.947654Z"
    }
   },
   "outputs": [
    {
     "name": "stdout",
     "output_type": "stream",
     "text": [
      "The bitstring representing the shape of the protein during optimization is:  00010011111100011\n",
      "The expanded expression is: 0________0______0_1______0_0_____________________________________________________________________________________________________________________________________________________________________________________________________________________1111110001_1____\n"
     ]
    }
   ],
   "source": [
    "result = protein_folding_problem.interpret(raw_result=raw_result)\n",
    "print(\n",
    "    \"The bitstring representing the shape of the protein during optimization is: \",\n",
    "    result.turn_sequence,\n",
    ")\n",
    "print(\"The expanded expression is:\", result.get_result_binary_vector())"
   ]
  },
  {
   "cell_type": "markdown",
   "id": "19578a0c",
   "metadata": {},
   "source": [
    "Now that we know which qubits encode which information, we can decode the bitstring into the explicit turns that form the shape of the protein."
   ]
  },
  {
   "cell_type": "code",
   "execution_count": 27,
   "id": "f377810d",
   "metadata": {
    "ExecuteTime": {
     "end_time": "2024-02-13T15:47:02.036274Z",
     "start_time": "2024-02-13T15:47:01.998896Z"
    }
   },
   "outputs": [
    {
     "name": "stdout",
     "output_type": "stream",
     "text": [
      "The folded protein's main sequence of turns is: [1, 0, 3, 2, 0, 3, 3, 3]\n",
      "and the side turn sequences are: [None, None, None, None, None, None, None, None, None]\n"
     ]
    }
   ],
   "source": [
    "print(f\"The folded protein's main sequence of turns is: {result.protein_shape_decoder.main_turns}\")\n",
    "print(f\"and the side turn sequences are: {result.protein_shape_decoder.side_turns}\")"
   ]
  },
  {
   "cell_type": "markdown",
   "id": "de27cfcd",
   "metadata": {},
   "source": [
    "From this sequence of turns we can get the cartesian coordinates of each of the aminoacids of the protein."
   ]
  },
  {
   "cell_type": "code",
   "execution_count": 28,
   "id": "39402e34",
   "metadata": {
    "ExecuteTime": {
     "end_time": "2024-02-13T15:47:02.041130Z",
     "start_time": "2024-02-13T15:47:02.036599Z"
    }
   },
   "outputs": [
    {
     "name": "stdout",
     "output_type": "stream",
     "text": [
      "[['D' '0.0' '0.0' '0.0']\n",
      " ['Y' '0.5773502691896258' '0.5773502691896258' '-0.5773502691896258']\n",
      " ['M' '1.1547005383792517' '0.0' '-1.1547005383792517']\n",
      " ['E' '1.7320508075688776' '-0.5773502691896258' '-0.5773502691896258']\n",
      " ['R' '2.3094010767585034' '0.0' '0.0']\n",
      " ['W' '1.7320508075688776' '0.5773502691896258' '0.5773502691896258']\n",
      " ['Y' '1.154700538379252' '1.1547005383792517' '0.0']\n",
      " ['R' '1.7320508075688776' '0.5773502691896258' '0.5773502691896258']\n",
      " ['Y' '1.154700538379252' '1.1547005383792517' '0.0']]\n"
     ]
    }
   ],
   "source": [
    "print(result.protein_shape_file_gen.get_xyz_data())"
   ]
  },
  {
   "cell_type": "markdown",
   "id": "d54c6272",
   "metadata": {},
   "source": [
    "And finally, we can also plot the structure of the protein in 3D. Note that when rendered with the proper backend this plot can be interactively rotated."
   ]
  },
  {
   "cell_type": "code",
   "execution_count": 29,
   "id": "a40f8c41",
   "metadata": {
    "ExecuteTime": {
     "end_time": "2024-02-13T15:47:02.140796Z",
     "start_time": "2024-02-13T15:47:02.037478Z"
    }
   },
   "outputs": [
    {
     "data": {
      "text/plain": "<Figure size 640x480 with 1 Axes>",
      "image/png": "[encoded data removed]"
     },
     "metadata": {},
     "output_type": "display_data"
    }
   ],
   "source": [
    "fig = result.get_figure(title=\"Protein Structure\", ticks=False, grid=True)\n",
    "fig.get_axes()[0].view_init(10, 80)"
   ]
  },
  {
   "cell_type": "markdown",
   "id": "0675bdcc",
   "metadata": {},
   "source": [
    "And here is an example with side chains."
   ]
  },
  {
   "cell_type": "code",
   "execution_count": 87,
   "id": "105a473a",
   "metadata": {
    "ExecuteTime": {
     "end_time": "2024-02-13T14:56:50.607504Z",
     "start_time": "2024-02-13T14:56:43.785089Z"
    }
   },
   "outputs": [
    {
     "ename": "QiskitError",
     "evalue": "'Some classical bits are not used for measurements. the number of classical bits (43), the used classical bits ({32, 33, 34, 35, 36, 37, 38, 39, 40, 41, 42, 30, 31}).'",
     "output_type": "error",
     "traceback": [
      "\u001B[0;31m---------------------------------------------------------------------------\u001B[0m",
      "\u001B[0;31mQiskitError\u001B[0m                               Traceback (most recent call last)",
      "Cell \u001B[0;32mIn[87], line 4\u001B[0m\n\u001B[1;32m      2\u001B[0m protein_folding_problem \u001B[38;5;241m=\u001B[39m ProteinFoldingProblem(peptide, mj_interaction, penalty_terms)\n\u001B[1;32m      3\u001B[0m qubit_op \u001B[38;5;241m=\u001B[39m protein_folding_problem\u001B[38;5;241m.\u001B[39mqubit_op()\n\u001B[0;32m----> 4\u001B[0m raw_result \u001B[38;5;241m=\u001B[39m \u001B[43mvqe\u001B[49m\u001B[38;5;241;43m.\u001B[39;49m\u001B[43mcompute_minimum_eigenvalue\u001B[49m\u001B[43m(\u001B[49m\u001B[43mqubit_op\u001B[49m\u001B[43m)\u001B[49m\n\u001B[1;32m      5\u001B[0m result_2 \u001B[38;5;241m=\u001B[39m protein_folding_problem\u001B[38;5;241m.\u001B[39minterpret(raw_result\u001B[38;5;241m=\u001B[39mraw_result)\n",
      "File \u001B[0;32m~/.local/share/virtualenvs/quantum-folding-aHaLeqp8/lib/python3.11/site-packages/qiskit/algorithms/minimum_eigensolvers/sampling_vqe.py:220\u001B[0m, in \u001B[0;36mSamplingVQE.compute_minimum_eigenvalue\u001B[0;34m(self, operator, aux_operators)\u001B[0m\n\u001B[1;32m    215\u001B[0m \u001B[38;5;28;01melse\u001B[39;00m:\n\u001B[1;32m    216\u001B[0m     \u001B[38;5;66;03m# we always want to submit as many estimations per job as possible for minimal\u001B[39;00m\n\u001B[1;32m    217\u001B[0m     \u001B[38;5;66;03m# overhead on the hardware\u001B[39;00m\n\u001B[1;32m    218\u001B[0m     was_updated \u001B[38;5;241m=\u001B[39m _set_default_batchsize(\u001B[38;5;28mself\u001B[39m\u001B[38;5;241m.\u001B[39moptimizer)\n\u001B[0;32m--> 220\u001B[0m     optimizer_result \u001B[38;5;241m=\u001B[39m \u001B[38;5;28;43mself\u001B[39;49m\u001B[38;5;241;43m.\u001B[39;49m\u001B[43moptimizer\u001B[49m\u001B[38;5;241;43m.\u001B[39;49m\u001B[43mminimize\u001B[49m\u001B[43m(\u001B[49m\n\u001B[1;32m    221\u001B[0m \u001B[43m        \u001B[49m\u001B[43mfun\u001B[49m\u001B[38;5;241;43m=\u001B[39;49m\u001B[43mevaluate_energy\u001B[49m\u001B[43m,\u001B[49m\u001B[43m \u001B[49m\u001B[43mx0\u001B[49m\u001B[38;5;241;43m=\u001B[39;49m\u001B[43minitial_point\u001B[49m\u001B[43m,\u001B[49m\u001B[43m \u001B[49m\u001B[43mbounds\u001B[49m\u001B[38;5;241;43m=\u001B[39;49m\u001B[43mbounds\u001B[49m\n\u001B[1;32m    222\u001B[0m \u001B[43m    \u001B[49m\u001B[43m)\u001B[49m\n\u001B[1;32m    224\u001B[0m     \u001B[38;5;66;03m# reset to original value\u001B[39;00m\n\u001B[1;32m    225\u001B[0m     \u001B[38;5;28;01mif\u001B[39;00m was_updated:\n",
      "File \u001B[0;32m~/.local/share/virtualenvs/quantum-folding-aHaLeqp8/lib/python3.11/site-packages/qiskit/algorithms/optimizers/scipy_optimizer.py:148\u001B[0m, in \u001B[0;36mSciPyOptimizer.minimize\u001B[0;34m(self, fun, x0, jac, bounds)\u001B[0m\n\u001B[1;32m    145\u001B[0m     swapped_deprecated_args \u001B[38;5;241m=\u001B[39m \u001B[38;5;28;01mTrue\u001B[39;00m\n\u001B[1;32m    146\u001B[0m     \u001B[38;5;28mself\u001B[39m\u001B[38;5;241m.\u001B[39m_options[\u001B[38;5;124m\"\u001B[39m\u001B[38;5;124mmaxfun\u001B[39m\u001B[38;5;124m\"\u001B[39m] \u001B[38;5;241m=\u001B[39m \u001B[38;5;28mself\u001B[39m\u001B[38;5;241m.\u001B[39m_options\u001B[38;5;241m.\u001B[39mpop(\u001B[38;5;124m\"\u001B[39m\u001B[38;5;124mmaxiter\u001B[39m\u001B[38;5;124m\"\u001B[39m)\n\u001B[0;32m--> 148\u001B[0m raw_result \u001B[38;5;241m=\u001B[39m \u001B[43mminimize\u001B[49m\u001B[43m(\u001B[49m\n\u001B[1;32m    149\u001B[0m \u001B[43m    \u001B[49m\u001B[43mfun\u001B[49m\u001B[38;5;241;43m=\u001B[39;49m\u001B[43mfun\u001B[49m\u001B[43m,\u001B[49m\n\u001B[1;32m    150\u001B[0m \u001B[43m    \u001B[49m\u001B[43mx0\u001B[49m\u001B[38;5;241;43m=\u001B[39;49m\u001B[43mx0\u001B[49m\u001B[43m,\u001B[49m\n\u001B[1;32m    151\u001B[0m \u001B[43m    \u001B[49m\u001B[43mmethod\u001B[49m\u001B[38;5;241;43m=\u001B[39;49m\u001B[38;5;28;43mself\u001B[39;49m\u001B[38;5;241;43m.\u001B[39;49m\u001B[43m_method\u001B[49m\u001B[43m,\u001B[49m\n\u001B[1;32m    152\u001B[0m \u001B[43m    \u001B[49m\u001B[43mjac\u001B[49m\u001B[38;5;241;43m=\u001B[39;49m\u001B[43mjac\u001B[49m\u001B[43m,\u001B[49m\n\u001B[1;32m    153\u001B[0m \u001B[43m    \u001B[49m\u001B[43mbounds\u001B[49m\u001B[38;5;241;43m=\u001B[39;49m\u001B[43mbounds\u001B[49m\u001B[43m,\u001B[49m\n\u001B[1;32m    154\u001B[0m \u001B[43m    \u001B[49m\u001B[43moptions\u001B[49m\u001B[38;5;241;43m=\u001B[39;49m\u001B[38;5;28;43mself\u001B[39;49m\u001B[38;5;241;43m.\u001B[39;49m\u001B[43m_options\u001B[49m\u001B[43m,\u001B[49m\n\u001B[1;32m    155\u001B[0m \u001B[43m    \u001B[49m\u001B[38;5;241;43m*\u001B[39;49m\u001B[38;5;241;43m*\u001B[39;49m\u001B[38;5;28;43mself\u001B[39;49m\u001B[38;5;241;43m.\u001B[39;49m\u001B[43m_kwargs\u001B[49m\u001B[43m,\u001B[49m\n\u001B[1;32m    156\u001B[0m \u001B[43m\u001B[49m\u001B[43m)\u001B[49m\n\u001B[1;32m    157\u001B[0m \u001B[38;5;28;01mif\u001B[39;00m swapped_deprecated_args:\n\u001B[1;32m    158\u001B[0m     \u001B[38;5;28mself\u001B[39m\u001B[38;5;241m.\u001B[39m_options[\u001B[38;5;124m\"\u001B[39m\u001B[38;5;124mmaxiter\u001B[39m\u001B[38;5;124m\"\u001B[39m] \u001B[38;5;241m=\u001B[39m \u001B[38;5;28mself\u001B[39m\u001B[38;5;241m.\u001B[39m_options\u001B[38;5;241m.\u001B[39mpop(\u001B[38;5;124m\"\u001B[39m\u001B[38;5;124mmaxfun\u001B[39m\u001B[38;5;124m\"\u001B[39m)\n",
      "File \u001B[0;32m~/miniconda3/lib/python3.11/site-packages/scipy/optimize/_minimize.py:719\u001B[0m, in \u001B[0;36mminimize\u001B[0;34m(fun, x0, args, method, jac, hess, hessp, bounds, constraints, tol, callback, options)\u001B[0m\n\u001B[1;32m    716\u001B[0m     res \u001B[38;5;241m=\u001B[39m _minimize_tnc(fun, x0, args, jac, bounds, callback\u001B[38;5;241m=\u001B[39mcallback,\n\u001B[1;32m    717\u001B[0m                         \u001B[38;5;241m*\u001B[39m\u001B[38;5;241m*\u001B[39moptions)\n\u001B[1;32m    718\u001B[0m \u001B[38;5;28;01melif\u001B[39;00m meth \u001B[38;5;241m==\u001B[39m \u001B[38;5;124m'\u001B[39m\u001B[38;5;124mcobyla\u001B[39m\u001B[38;5;124m'\u001B[39m:\n\u001B[0;32m--> 719\u001B[0m     res \u001B[38;5;241m=\u001B[39m \u001B[43m_minimize_cobyla\u001B[49m\u001B[43m(\u001B[49m\u001B[43mfun\u001B[49m\u001B[43m,\u001B[49m\u001B[43m \u001B[49m\u001B[43mx0\u001B[49m\u001B[43m,\u001B[49m\u001B[43m \u001B[49m\u001B[43margs\u001B[49m\u001B[43m,\u001B[49m\u001B[43m \u001B[49m\u001B[43mconstraints\u001B[49m\u001B[43m,\u001B[49m\u001B[43m \u001B[49m\u001B[43mcallback\u001B[49m\u001B[38;5;241;43m=\u001B[39;49m\u001B[43mcallback\u001B[49m\u001B[43m,\u001B[49m\n\u001B[1;32m    720\u001B[0m \u001B[43m                           \u001B[49m\u001B[43mbounds\u001B[49m\u001B[38;5;241;43m=\u001B[39;49m\u001B[43mbounds\u001B[49m\u001B[43m,\u001B[49m\u001B[43m \u001B[49m\u001B[38;5;241;43m*\u001B[39;49m\u001B[38;5;241;43m*\u001B[39;49m\u001B[43moptions\u001B[49m\u001B[43m)\u001B[49m\n\u001B[1;32m    721\u001B[0m \u001B[38;5;28;01melif\u001B[39;00m meth \u001B[38;5;241m==\u001B[39m \u001B[38;5;124m'\u001B[39m\u001B[38;5;124mslsqp\u001B[39m\u001B[38;5;124m'\u001B[39m:\n\u001B[1;32m    722\u001B[0m     res \u001B[38;5;241m=\u001B[39m _minimize_slsqp(fun, x0, args, jac, bounds,\n\u001B[1;32m    723\u001B[0m                           constraints, callback\u001B[38;5;241m=\u001B[39mcallback, \u001B[38;5;241m*\u001B[39m\u001B[38;5;241m*\u001B[39moptions)\n",
      "File \u001B[0;32m~/miniconda3/lib/python3.11/site-packages/scipy/optimize/_cobyla_py.py:35\u001B[0m, in \u001B[0;36msynchronized.<locals>.wrapper\u001B[0;34m(*args, **kwargs)\u001B[0m\n\u001B[1;32m     32\u001B[0m \u001B[38;5;129m@functools\u001B[39m\u001B[38;5;241m.\u001B[39mwraps(func)\n\u001B[1;32m     33\u001B[0m \u001B[38;5;28;01mdef\u001B[39;00m \u001B[38;5;21mwrapper\u001B[39m(\u001B[38;5;241m*\u001B[39margs, \u001B[38;5;241m*\u001B[39m\u001B[38;5;241m*\u001B[39mkwargs):\n\u001B[1;32m     34\u001B[0m     \u001B[38;5;28;01mwith\u001B[39;00m _module_lock:\n\u001B[0;32m---> 35\u001B[0m         \u001B[38;5;28;01mreturn\u001B[39;00m \u001B[43mfunc\u001B[49m\u001B[43m(\u001B[49m\u001B[38;5;241;43m*\u001B[39;49m\u001B[43margs\u001B[49m\u001B[43m,\u001B[49m\u001B[43m \u001B[49m\u001B[38;5;241;43m*\u001B[39;49m\u001B[38;5;241;43m*\u001B[39;49m\u001B[43mkwargs\u001B[49m\u001B[43m)\u001B[49m\n",
      "File \u001B[0;32m~/miniconda3/lib/python3.11/site-packages/scipy/optimize/_cobyla_py.py:278\u001B[0m, in \u001B[0;36m_minimize_cobyla\u001B[0;34m(fun, x0, args, constraints, rhobeg, tol, maxiter, disp, catol, callback, bounds, **unknown_options)\u001B[0m\n\u001B[1;32m    275\u001B[0m \u001B[38;5;28;01mdef\u001B[39;00m \u001B[38;5;21m_jac\u001B[39m(x, \u001B[38;5;241m*\u001B[39margs):\n\u001B[1;32m    276\u001B[0m     \u001B[38;5;28;01mreturn\u001B[39;00m \u001B[38;5;28;01mNone\u001B[39;00m\n\u001B[0;32m--> 278\u001B[0m sf \u001B[38;5;241m=\u001B[39m \u001B[43m_prepare_scalar_function\u001B[49m\u001B[43m(\u001B[49m\u001B[43mfun\u001B[49m\u001B[43m,\u001B[49m\u001B[43m \u001B[49m\u001B[43mx0\u001B[49m\u001B[43m,\u001B[49m\u001B[43m \u001B[49m\u001B[43margs\u001B[49m\u001B[38;5;241;43m=\u001B[39;49m\u001B[43margs\u001B[49m\u001B[43m,\u001B[49m\u001B[43m \u001B[49m\u001B[43mjac\u001B[49m\u001B[38;5;241;43m=\u001B[39;49m\u001B[43m_jac\u001B[49m\u001B[43m)\u001B[49m\n\u001B[1;32m    280\u001B[0m \u001B[38;5;28;01mdef\u001B[39;00m \u001B[38;5;21mcalcfc\u001B[39m(x, con):\n\u001B[1;32m    281\u001B[0m     f \u001B[38;5;241m=\u001B[39m sf\u001B[38;5;241m.\u001B[39mfun(x)\n",
      "File \u001B[0;32m~/miniconda3/lib/python3.11/site-packages/scipy/optimize/_optimize.py:402\u001B[0m, in \u001B[0;36m_prepare_scalar_function\u001B[0;34m(fun, x0, jac, args, bounds, epsilon, finite_diff_rel_step, hess)\u001B[0m\n\u001B[1;32m    398\u001B[0m     bounds \u001B[38;5;241m=\u001B[39m (\u001B[38;5;241m-\u001B[39mnp\u001B[38;5;241m.\u001B[39minf, np\u001B[38;5;241m.\u001B[39minf)\n\u001B[1;32m    400\u001B[0m \u001B[38;5;66;03m# ScalarFunction caches. Reuse of fun(x) during grad\u001B[39;00m\n\u001B[1;32m    401\u001B[0m \u001B[38;5;66;03m# calculation reduces overall function evaluations.\u001B[39;00m\n\u001B[0;32m--> 402\u001B[0m sf \u001B[38;5;241m=\u001B[39m \u001B[43mScalarFunction\u001B[49m\u001B[43m(\u001B[49m\u001B[43mfun\u001B[49m\u001B[43m,\u001B[49m\u001B[43m \u001B[49m\u001B[43mx0\u001B[49m\u001B[43m,\u001B[49m\u001B[43m \u001B[49m\u001B[43margs\u001B[49m\u001B[43m,\u001B[49m\u001B[43m \u001B[49m\u001B[43mgrad\u001B[49m\u001B[43m,\u001B[49m\u001B[43m \u001B[49m\u001B[43mhess\u001B[49m\u001B[43m,\u001B[49m\n\u001B[1;32m    403\u001B[0m \u001B[43m                    \u001B[49m\u001B[43mfinite_diff_rel_step\u001B[49m\u001B[43m,\u001B[49m\u001B[43m \u001B[49m\u001B[43mbounds\u001B[49m\u001B[43m,\u001B[49m\u001B[43m \u001B[49m\u001B[43mepsilon\u001B[49m\u001B[38;5;241;43m=\u001B[39;49m\u001B[43mepsilon\u001B[49m\u001B[43m)\u001B[49m\n\u001B[1;32m    405\u001B[0m \u001B[38;5;28;01mreturn\u001B[39;00m sf\n",
      "File \u001B[0;32m~/miniconda3/lib/python3.11/site-packages/scipy/optimize/_differentiable_functions.py:166\u001B[0m, in \u001B[0;36mScalarFunction.__init__\u001B[0;34m(self, fun, x0, args, grad, hess, finite_diff_rel_step, finite_diff_bounds, epsilon)\u001B[0m\n\u001B[1;32m    163\u001B[0m     \u001B[38;5;28mself\u001B[39m\u001B[38;5;241m.\u001B[39mf \u001B[38;5;241m=\u001B[39m fun_wrapped(\u001B[38;5;28mself\u001B[39m\u001B[38;5;241m.\u001B[39mx)\n\u001B[1;32m    165\u001B[0m \u001B[38;5;28mself\u001B[39m\u001B[38;5;241m.\u001B[39m_update_fun_impl \u001B[38;5;241m=\u001B[39m update_fun\n\u001B[0;32m--> 166\u001B[0m \u001B[38;5;28;43mself\u001B[39;49m\u001B[38;5;241;43m.\u001B[39;49m\u001B[43m_update_fun\u001B[49m\u001B[43m(\u001B[49m\u001B[43m)\u001B[49m\n\u001B[1;32m    168\u001B[0m \u001B[38;5;66;03m# Gradient evaluation\u001B[39;00m\n\u001B[1;32m    169\u001B[0m \u001B[38;5;28;01mif\u001B[39;00m \u001B[38;5;28mcallable\u001B[39m(grad):\n",
      "File \u001B[0;32m~/miniconda3/lib/python3.11/site-packages/scipy/optimize/_differentiable_functions.py:262\u001B[0m, in \u001B[0;36mScalarFunction._update_fun\u001B[0;34m(self)\u001B[0m\n\u001B[1;32m    260\u001B[0m \u001B[38;5;28;01mdef\u001B[39;00m \u001B[38;5;21m_update_fun\u001B[39m(\u001B[38;5;28mself\u001B[39m):\n\u001B[1;32m    261\u001B[0m     \u001B[38;5;28;01mif\u001B[39;00m \u001B[38;5;129;01mnot\u001B[39;00m \u001B[38;5;28mself\u001B[39m\u001B[38;5;241m.\u001B[39mf_updated:\n\u001B[0;32m--> 262\u001B[0m         \u001B[38;5;28;43mself\u001B[39;49m\u001B[38;5;241;43m.\u001B[39;49m\u001B[43m_update_fun_impl\u001B[49m\u001B[43m(\u001B[49m\u001B[43m)\u001B[49m\n\u001B[1;32m    263\u001B[0m         \u001B[38;5;28mself\u001B[39m\u001B[38;5;241m.\u001B[39mf_updated \u001B[38;5;241m=\u001B[39m \u001B[38;5;28;01mTrue\u001B[39;00m\n",
      "File \u001B[0;32m~/miniconda3/lib/python3.11/site-packages/scipy/optimize/_differentiable_functions.py:163\u001B[0m, in \u001B[0;36mScalarFunction.__init__.<locals>.update_fun\u001B[0;34m()\u001B[0m\n\u001B[1;32m    162\u001B[0m \u001B[38;5;28;01mdef\u001B[39;00m \u001B[38;5;21mupdate_fun\u001B[39m():\n\u001B[0;32m--> 163\u001B[0m     \u001B[38;5;28mself\u001B[39m\u001B[38;5;241m.\u001B[39mf \u001B[38;5;241m=\u001B[39m \u001B[43mfun_wrapped\u001B[49m\u001B[43m(\u001B[49m\u001B[38;5;28;43mself\u001B[39;49m\u001B[38;5;241;43m.\u001B[39;49m\u001B[43mx\u001B[49m\u001B[43m)\u001B[49m\n",
      "File \u001B[0;32m~/miniconda3/lib/python3.11/site-packages/scipy/optimize/_differentiable_functions.py:145\u001B[0m, in \u001B[0;36mScalarFunction.__init__.<locals>.fun_wrapped\u001B[0;34m(x)\u001B[0m\n\u001B[1;32m    141\u001B[0m \u001B[38;5;28mself\u001B[39m\u001B[38;5;241m.\u001B[39mnfev \u001B[38;5;241m+\u001B[39m\u001B[38;5;241m=\u001B[39m \u001B[38;5;241m1\u001B[39m\n\u001B[1;32m    142\u001B[0m \u001B[38;5;66;03m# Send a copy because the user may overwrite it.\u001B[39;00m\n\u001B[1;32m    143\u001B[0m \u001B[38;5;66;03m# Overwriting results in undefined behaviour because\u001B[39;00m\n\u001B[1;32m    144\u001B[0m \u001B[38;5;66;03m# fun(self.x) will change self.x, with the two no longer linked.\u001B[39;00m\n\u001B[0;32m--> 145\u001B[0m fx \u001B[38;5;241m=\u001B[39m \u001B[43mfun\u001B[49m\u001B[43m(\u001B[49m\u001B[43mnp\u001B[49m\u001B[38;5;241;43m.\u001B[39;49m\u001B[43mcopy\u001B[49m\u001B[43m(\u001B[49m\u001B[43mx\u001B[49m\u001B[43m)\u001B[49m\u001B[43m,\u001B[49m\u001B[43m \u001B[49m\u001B[38;5;241;43m*\u001B[39;49m\u001B[43margs\u001B[49m\u001B[43m)\u001B[49m\n\u001B[1;32m    146\u001B[0m \u001B[38;5;66;03m# Make sure the function returns a true scalar\u001B[39;00m\n\u001B[1;32m    147\u001B[0m \u001B[38;5;28;01mif\u001B[39;00m \u001B[38;5;129;01mnot\u001B[39;00m np\u001B[38;5;241m.\u001B[39misscalar(fx):\n",
      "File \u001B[0;32m~/.local/share/virtualenvs/quantum-folding-aHaLeqp8/lib/python3.11/site-packages/qiskit/algorithms/minimum_eigensolvers/sampling_vqe.py:309\u001B[0m, in \u001B[0;36mSamplingVQE._get_evaluate_energy.<locals>.evaluate_energy\u001B[0;34m(parameters)\u001B[0m\n\u001B[1;32m    304\u001B[0m parameters \u001B[38;5;241m=\u001B[39m np\u001B[38;5;241m.\u001B[39mreshape(parameters, (\u001B[38;5;241m-\u001B[39m\u001B[38;5;241m1\u001B[39m, num_parameters))\u001B[38;5;241m.\u001B[39mtolist()\n\u001B[1;32m    305\u001B[0m batch_size \u001B[38;5;241m=\u001B[39m \u001B[38;5;28mlen\u001B[39m(parameters)\n\u001B[1;32m    307\u001B[0m estimator_result \u001B[38;5;241m=\u001B[39m \u001B[43mestimator\u001B[49m\u001B[38;5;241;43m.\u001B[39;49m\u001B[43mrun\u001B[49m\u001B[43m(\u001B[49m\n\u001B[1;32m    308\u001B[0m \u001B[43m    \u001B[49m\u001B[43mbatch_size\u001B[49m\u001B[43m \u001B[49m\u001B[38;5;241;43m*\u001B[39;49m\u001B[43m \u001B[49m\u001B[43m[\u001B[49m\u001B[43mansatz\u001B[49m\u001B[43m]\u001B[49m\u001B[43m,\u001B[49m\u001B[43m \u001B[49m\u001B[43mbatch_size\u001B[49m\u001B[43m \u001B[49m\u001B[38;5;241;43m*\u001B[39;49m\u001B[43m \u001B[49m\u001B[43m[\u001B[49m\u001B[43moperator\u001B[49m\u001B[43m]\u001B[49m\u001B[43m,\u001B[49m\u001B[43m \u001B[49m\u001B[43mparameters\u001B[49m\n\u001B[0;32m--> 309\u001B[0m \u001B[43m\u001B[49m\u001B[43m)\u001B[49m\u001B[38;5;241;43m.\u001B[39;49m\u001B[43mresult\u001B[49m\u001B[43m(\u001B[49m\u001B[43m)\u001B[49m\n\u001B[1;32m    310\u001B[0m values \u001B[38;5;241m=\u001B[39m estimator_result\u001B[38;5;241m.\u001B[39mvalues\n\u001B[1;32m    312\u001B[0m \u001B[38;5;28;01mif\u001B[39;00m \u001B[38;5;28mself\u001B[39m\u001B[38;5;241m.\u001B[39mcallback \u001B[38;5;129;01mis\u001B[39;00m \u001B[38;5;129;01mnot\u001B[39;00m \u001B[38;5;28;01mNone\u001B[39;00m:\n",
      "File \u001B[0;32m~/.local/share/virtualenvs/quantum-folding-aHaLeqp8/lib/python3.11/site-packages/qiskit/primitives/primitive_job.py:50\u001B[0m, in \u001B[0;36mPrimitiveJob.result\u001B[0;34m(self)\u001B[0m\n\u001B[1;32m     48\u001B[0m \u001B[38;5;250m\u001B[39m\u001B[38;5;124;03m\"\"\"Return the results of the job.\"\"\"\u001B[39;00m\n\u001B[1;32m     49\u001B[0m \u001B[38;5;28mself\u001B[39m\u001B[38;5;241m.\u001B[39m_check_submitted()\n\u001B[0;32m---> 50\u001B[0m \u001B[38;5;28;01mreturn\u001B[39;00m \u001B[38;5;28;43mself\u001B[39;49m\u001B[38;5;241;43m.\u001B[39;49m\u001B[43m_future\u001B[49m\u001B[38;5;241;43m.\u001B[39;49m\u001B[43mresult\u001B[49m\u001B[43m(\u001B[49m\u001B[43m)\u001B[49m\n",
      "File \u001B[0;32m~/miniconda3/lib/python3.11/concurrent/futures/_base.py:449\u001B[0m, in \u001B[0;36mFuture.result\u001B[0;34m(self, timeout)\u001B[0m\n\u001B[1;32m    447\u001B[0m     \u001B[38;5;28;01mraise\u001B[39;00m CancelledError()\n\u001B[1;32m    448\u001B[0m \u001B[38;5;28;01melif\u001B[39;00m \u001B[38;5;28mself\u001B[39m\u001B[38;5;241m.\u001B[39m_state \u001B[38;5;241m==\u001B[39m FINISHED:\n\u001B[0;32m--> 449\u001B[0m     \u001B[38;5;28;01mreturn\u001B[39;00m \u001B[38;5;28;43mself\u001B[39;49m\u001B[38;5;241;43m.\u001B[39;49m\u001B[43m__get_result\u001B[49m\u001B[43m(\u001B[49m\u001B[43m)\u001B[49m\n\u001B[1;32m    451\u001B[0m \u001B[38;5;28mself\u001B[39m\u001B[38;5;241m.\u001B[39m_condition\u001B[38;5;241m.\u001B[39mwait(timeout)\n\u001B[1;32m    453\u001B[0m \u001B[38;5;28;01mif\u001B[39;00m \u001B[38;5;28mself\u001B[39m\u001B[38;5;241m.\u001B[39m_state \u001B[38;5;129;01min\u001B[39;00m [CANCELLED, CANCELLED_AND_NOTIFIED]:\n",
      "File \u001B[0;32m~/miniconda3/lib/python3.11/concurrent/futures/_base.py:401\u001B[0m, in \u001B[0;36mFuture.__get_result\u001B[0;34m(self)\u001B[0m\n\u001B[1;32m    399\u001B[0m \u001B[38;5;28;01mif\u001B[39;00m \u001B[38;5;28mself\u001B[39m\u001B[38;5;241m.\u001B[39m_exception:\n\u001B[1;32m    400\u001B[0m     \u001B[38;5;28;01mtry\u001B[39;00m:\n\u001B[0;32m--> 401\u001B[0m         \u001B[38;5;28;01mraise\u001B[39;00m \u001B[38;5;28mself\u001B[39m\u001B[38;5;241m.\u001B[39m_exception\n\u001B[1;32m    402\u001B[0m     \u001B[38;5;28;01mfinally\u001B[39;00m:\n\u001B[1;32m    403\u001B[0m         \u001B[38;5;66;03m# Break a reference cycle with the exception in self._exception\u001B[39;00m\n\u001B[1;32m    404\u001B[0m         \u001B[38;5;28mself\u001B[39m \u001B[38;5;241m=\u001B[39m \u001B[38;5;28;01mNone\u001B[39;00m\n",
      "File \u001B[0;32m~/miniconda3/lib/python3.11/concurrent/futures/thread.py:58\u001B[0m, in \u001B[0;36m_WorkItem.run\u001B[0;34m(self)\u001B[0m\n\u001B[1;32m     55\u001B[0m     \u001B[38;5;28;01mreturn\u001B[39;00m\n\u001B[1;32m     57\u001B[0m \u001B[38;5;28;01mtry\u001B[39;00m:\n\u001B[0;32m---> 58\u001B[0m     result \u001B[38;5;241m=\u001B[39m \u001B[38;5;28;43mself\u001B[39;49m\u001B[38;5;241;43m.\u001B[39;49m\u001B[43mfn\u001B[49m\u001B[43m(\u001B[49m\u001B[38;5;241;43m*\u001B[39;49m\u001B[38;5;28;43mself\u001B[39;49m\u001B[38;5;241;43m.\u001B[39;49m\u001B[43margs\u001B[49m\u001B[43m,\u001B[49m\u001B[43m \u001B[49m\u001B[38;5;241;43m*\u001B[39;49m\u001B[38;5;241;43m*\u001B[39;49m\u001B[38;5;28;43mself\u001B[39;49m\u001B[38;5;241;43m.\u001B[39;49m\u001B[43mkwargs\u001B[49m\u001B[43m)\u001B[49m\n\u001B[1;32m     59\u001B[0m \u001B[38;5;28;01mexcept\u001B[39;00m \u001B[38;5;167;01mBaseException\u001B[39;00m \u001B[38;5;28;01mas\u001B[39;00m exc:\n\u001B[1;32m     60\u001B[0m     \u001B[38;5;28mself\u001B[39m\u001B[38;5;241m.\u001B[39mfuture\u001B[38;5;241m.\u001B[39mset_exception(exc)\n",
      "File \u001B[0;32m~/.local/share/virtualenvs/quantum-folding-aHaLeqp8/lib/python3.11/site-packages/qiskit/algorithms/minimum_eigensolvers/diagonal_estimator.py:111\u001B[0m, in \u001B[0;36m_DiagonalEstimator._call\u001B[0;34m(self, circuits, observables, parameter_values, **run_options)\u001B[0m\n\u001B[1;32m    104\u001B[0m \u001B[38;5;28;01mdef\u001B[39;00m \u001B[38;5;21m_call\u001B[39m(\n\u001B[1;32m    105\u001B[0m     \u001B[38;5;28mself\u001B[39m,\n\u001B[1;32m    106\u001B[0m     circuits: Sequence[\u001B[38;5;28mint\u001B[39m],\n\u001B[0;32m   (...)\u001B[0m\n\u001B[1;32m    109\u001B[0m     \u001B[38;5;241m*\u001B[39m\u001B[38;5;241m*\u001B[39mrun_options,\n\u001B[1;32m    110\u001B[0m ) \u001B[38;5;241m-\u001B[39m\u001B[38;5;241m>\u001B[39m _DiagonalEstimatorResult:\n\u001B[0;32m--> 111\u001B[0m     job \u001B[38;5;241m=\u001B[39m \u001B[38;5;28;43mself\u001B[39;49m\u001B[38;5;241;43m.\u001B[39;49m\u001B[43msampler\u001B[49m\u001B[38;5;241;43m.\u001B[39;49m\u001B[43mrun\u001B[49m\u001B[43m(\u001B[49m\n\u001B[1;32m    112\u001B[0m \u001B[43m        \u001B[49m\u001B[43m[\u001B[49m\u001B[38;5;28;43mself\u001B[39;49m\u001B[38;5;241;43m.\u001B[39;49m\u001B[43m_circuits\u001B[49m\u001B[43m[\u001B[49m\u001B[43mi\u001B[49m\u001B[43m]\u001B[49m\u001B[43m \u001B[49m\u001B[38;5;28;43;01mfor\u001B[39;49;00m\u001B[43m \u001B[49m\u001B[43mi\u001B[49m\u001B[43m \u001B[49m\u001B[38;5;129;43;01min\u001B[39;49;00m\u001B[43m \u001B[49m\u001B[43mcircuits\u001B[49m\u001B[43m]\u001B[49m\u001B[43m,\u001B[49m\n\u001B[1;32m    113\u001B[0m \u001B[43m        \u001B[49m\u001B[43mparameter_values\u001B[49m\u001B[43m,\u001B[49m\n\u001B[1;32m    114\u001B[0m \u001B[43m        \u001B[49m\u001B[38;5;241;43m*\u001B[39;49m\u001B[38;5;241;43m*\u001B[39;49m\u001B[43mrun_options\u001B[49m\u001B[43m,\u001B[49m\n\u001B[1;32m    115\u001B[0m \u001B[43m    \u001B[49m\u001B[43m)\u001B[49m\n\u001B[1;32m    116\u001B[0m     sampler_result \u001B[38;5;241m=\u001B[39m job\u001B[38;5;241m.\u001B[39mresult()\n\u001B[1;32m    117\u001B[0m     samples \u001B[38;5;241m=\u001B[39m sampler_result\u001B[38;5;241m.\u001B[39mquasi_dists\n",
      "File \u001B[0;32m~/.local/share/virtualenvs/quantum-folding-aHaLeqp8/lib/python3.11/site-packages/qiskit/primitives/base/base_sampler.py:184\u001B[0m, in \u001B[0;36mBaseSampler.run\u001B[0;34m(self, circuits, parameter_values, **run_options)\u001B[0m\n\u001B[1;32m    181\u001B[0m run_opts \u001B[38;5;241m=\u001B[39m copy(\u001B[38;5;28mself\u001B[39m\u001B[38;5;241m.\u001B[39moptions)\n\u001B[1;32m    182\u001B[0m run_opts\u001B[38;5;241m.\u001B[39mupdate_options(\u001B[38;5;241m*\u001B[39m\u001B[38;5;241m*\u001B[39mrun_options)\n\u001B[0;32m--> 184\u001B[0m \u001B[38;5;28;01mreturn\u001B[39;00m \u001B[38;5;28;43mself\u001B[39;49m\u001B[38;5;241;43m.\u001B[39;49m\u001B[43m_run\u001B[49m\u001B[43m(\u001B[49m\n\u001B[1;32m    185\u001B[0m \u001B[43m    \u001B[49m\u001B[43mcircuits\u001B[49m\u001B[43m,\u001B[49m\n\u001B[1;32m    186\u001B[0m \u001B[43m    \u001B[49m\u001B[43mparameter_values\u001B[49m\u001B[43m,\u001B[49m\n\u001B[1;32m    187\u001B[0m \u001B[43m    \u001B[49m\u001B[38;5;241;43m*\u001B[39;49m\u001B[38;5;241;43m*\u001B[39;49m\u001B[43mrun_opts\u001B[49m\u001B[38;5;241;43m.\u001B[39;49m\u001B[38;5;18;43m__dict__\u001B[39;49m\u001B[43m,\u001B[49m\n\u001B[1;32m    188\u001B[0m \u001B[43m\u001B[49m\u001B[43m)\u001B[49m\n",
      "File \u001B[0;32m~/.local/share/virtualenvs/quantum-folding-aHaLeqp8/lib/python3.11/site-packages/qiskit/primitives/sampler.py:156\u001B[0m, in \u001B[0;36mSampler._run\u001B[0;34m(self, circuits, parameter_values, **run_options)\u001B[0m\n\u001B[1;32m    154\u001B[0m circuit_indices\u001B[38;5;241m.\u001B[39mappend(\u001B[38;5;28mlen\u001B[39m(\u001B[38;5;28mself\u001B[39m\u001B[38;5;241m.\u001B[39m_circuits))\n\u001B[1;32m    155\u001B[0m \u001B[38;5;28mself\u001B[39m\u001B[38;5;241m.\u001B[39m_circuit_ids[key] \u001B[38;5;241m=\u001B[39m \u001B[38;5;28mlen\u001B[39m(\u001B[38;5;28mself\u001B[39m\u001B[38;5;241m.\u001B[39m_circuits)\n\u001B[0;32m--> 156\u001B[0m circuit, qargs \u001B[38;5;241m=\u001B[39m \u001B[38;5;28;43mself\u001B[39;49m\u001B[38;5;241;43m.\u001B[39;49m\u001B[43m_preprocess_circuit\u001B[49m\u001B[43m(\u001B[49m\u001B[43mcircuit\u001B[49m\u001B[43m)\u001B[49m\n\u001B[1;32m    157\u001B[0m \u001B[38;5;28mself\u001B[39m\u001B[38;5;241m.\u001B[39m_circuits\u001B[38;5;241m.\u001B[39mappend(circuit)\n\u001B[1;32m    158\u001B[0m \u001B[38;5;28mself\u001B[39m\u001B[38;5;241m.\u001B[39m_qargs_list\u001B[38;5;241m.\u001B[39mappend(qargs)\n",
      "File \u001B[0;32m~/.local/share/virtualenvs/quantum-folding-aHaLeqp8/lib/python3.11/site-packages/qiskit/primitives/sampler.py:169\u001B[0m, in \u001B[0;36mSampler._preprocess_circuit\u001B[0;34m(circuit)\u001B[0m\n\u001B[1;32m    167\u001B[0m q_c_mapping \u001B[38;5;241m=\u001B[39m final_measurement_mapping(circuit)\n\u001B[1;32m    168\u001B[0m \u001B[38;5;28;01mif\u001B[39;00m \u001B[38;5;28mset\u001B[39m(\u001B[38;5;28mrange\u001B[39m(circuit\u001B[38;5;241m.\u001B[39mnum_clbits)) \u001B[38;5;241m!=\u001B[39m \u001B[38;5;28mset\u001B[39m(q_c_mapping\u001B[38;5;241m.\u001B[39mvalues()):\n\u001B[0;32m--> 169\u001B[0m     \u001B[38;5;28;01mraise\u001B[39;00m QiskitError(\n\u001B[1;32m    170\u001B[0m         \u001B[38;5;124m\"\u001B[39m\u001B[38;5;124mSome classical bits are not used for measurements.\u001B[39m\u001B[38;5;124m\"\u001B[39m\n\u001B[1;32m    171\u001B[0m         \u001B[38;5;124mf\u001B[39m\u001B[38;5;124m\"\u001B[39m\u001B[38;5;124m the number of classical bits (\u001B[39m\u001B[38;5;132;01m{\u001B[39;00mcircuit\u001B[38;5;241m.\u001B[39mnum_clbits\u001B[38;5;132;01m}\u001B[39;00m\u001B[38;5;124m),\u001B[39m\u001B[38;5;124m\"\u001B[39m\n\u001B[1;32m    172\u001B[0m         \u001B[38;5;124mf\u001B[39m\u001B[38;5;124m\"\u001B[39m\u001B[38;5;124m the used classical bits (\u001B[39m\u001B[38;5;132;01m{\u001B[39;00m\u001B[38;5;28mset\u001B[39m(q_c_mapping\u001B[38;5;241m.\u001B[39mvalues())\u001B[38;5;132;01m}\u001B[39;00m\u001B[38;5;124m).\u001B[39m\u001B[38;5;124m\"\u001B[39m\n\u001B[1;32m    173\u001B[0m     )\n\u001B[1;32m    174\u001B[0m c_q_mapping \u001B[38;5;241m=\u001B[39m \u001B[38;5;28msorted\u001B[39m((c, q) \u001B[38;5;28;01mfor\u001B[39;00m q, c \u001B[38;5;129;01min\u001B[39;00m q_c_mapping\u001B[38;5;241m.\u001B[39mitems())\n\u001B[1;32m    175\u001B[0m qargs \u001B[38;5;241m=\u001B[39m [q \u001B[38;5;28;01mfor\u001B[39;00m _, q \u001B[38;5;129;01min\u001B[39;00m c_q_mapping]\n",
      "\u001B[0;31mQiskitError\u001B[0m: 'Some classical bits are not used for measurements. the number of classical bits (43), the used classical bits ({32, 33, 34, 35, 36, 37, 38, 39, 40, 41, 42, 30, 31}).'"
     ]
    }
   ],
   "source": [
    "peptide = Peptide(\"AAAAAAAA\", [\"\"]*8)\n",
    "protein_folding_problem = ProteinFoldingProblem(peptide, mj_interaction, penalty_terms)\n",
    "qubit_op = protein_folding_problem.qubit_op()\n",
    "raw_result = vqe.compute_minimum_eigenvalue(qubit_op)\n",
    "result_2 = protein_folding_problem.interpret(raw_result=raw_result)"
   ]
  },
  {
   "cell_type": "code",
   "execution_count": 59,
   "id": "4b0aa85e",
   "metadata": {
    "ExecuteTime": {
     "end_time": "2024-02-13T14:47:58.513798Z",
     "start_time": "2024-02-13T14:47:58.473757Z"
    }
   },
   "outputs": [
    {
     "ename": "NameError",
     "evalue": "name 'result_2' is not defined",
     "output_type": "error",
     "traceback": [
      "\u001B[0;31m---------------------------------------------------------------------------\u001B[0m",
      "\u001B[0;31mNameError\u001B[0m                                 Traceback (most recent call last)",
      "Cell \u001B[0;32mIn[59], line 1\u001B[0m\n\u001B[0;32m----> 1\u001B[0m fig \u001B[38;5;241m=\u001B[39m \u001B[43mresult_2\u001B[49m\u001B[38;5;241m.\u001B[39mget_figure(title\u001B[38;5;241m=\u001B[39m\u001B[38;5;124m\"\u001B[39m\u001B[38;5;124mProtein Structure\u001B[39m\u001B[38;5;124m\"\u001B[39m, ticks\u001B[38;5;241m=\u001B[39m\u001B[38;5;28;01mFalse\u001B[39;00m, grid\u001B[38;5;241m=\u001B[39m\u001B[38;5;28;01mTrue\u001B[39;00m)\n\u001B[1;32m      2\u001B[0m fig\u001B[38;5;241m.\u001B[39mget_axes()[\u001B[38;5;241m0\u001B[39m]\u001B[38;5;241m.\u001B[39mview_init(\u001B[38;5;241m10\u001B[39m, \u001B[38;5;241m60\u001B[39m)\n",
      "\u001B[0;31mNameError\u001B[0m: name 'result_2' is not defined"
     ]
    }
   ],
   "source": [
    "fig = result_2.get_figure(title=\"Protein Structure\", ticks=False, grid=True)\n",
    "fig.get_axes()[0].view_init(10, 60)"
   ]
  },
  {
   "cell_type": "markdown",
   "id": "3000495a",
   "metadata": {},
   "source": [
    "### References"
   ]
  },
  {
   "cell_type": "markdown",
   "id": "c835b123",
   "metadata": {},
   "source": [
    "<font size='2'>[1] https://en.wikipedia.org/wiki/Levinthal%27s_paradox </font>\n",
    "\n",
    "<font size='2'>[2] A.Robert, P.Barkoutsos, S.Woerner and I.Tavernelli, Resource-efficient quantum algorithm for protein folding, NPJ Quantum Information, 2021, https://doi.org/10.1038/s41534-021-00368-4 </font>\n",
    "\n",
    "<font size=\"2\">[3] IUPAC–IUB Commission on Biochemical Nomenclature (1972). \"A one-letter notation for aminoacid sequences\". Pure and Applied Chemistry. 31 (4): 641–645. doi:10.1351/pac197231040639. PMID 5080161.</font> <br>\n",
    "\n",
    "<font size=\"2\">[4] https://en.wikipedia.org/wiki/Amino_acid</font>\n",
    "\n",
    "<font size=\"2\"> [5] S. Miyazawa and R. L.Jernigan, Residue – Residue Potentials with a Favorable Contact Pair Term and an Unfavorable High Packing Density Term for Simulation and Threading, J. Mol. Biol.256, 623–644, 1996, Table 3, https://doi.org/10.1006/jmbi.1996.0114 </font>\n",
    "\n",
    "<font size=\"2\"> [6] P.Barkoutsos, G. Nannichini, A.Robert, I.Tavernelli, S.Woerner, Improving Variational Quantum Optimization using CVaR, Quantum 4, 256, 2020, https://doi.org/10.22331/q-2020-04-20-256  </font>"
   ]
  },
  {
   "cell_type": "code",
   "execution_count": 17,
   "id": "8f7e04a1",
   "metadata": {},
   "outputs": [
    {
     "data": {
      "text/html": [
       "<h3>Version Information</h3><table><tr><th>Qiskit Software</th><th>Version</th></tr><tr><td><code>qiskit-terra</code></td><td>0.20.2</td></tr><tr><td><code>qiskit-aer</code></td><td>0.10.4</td></tr><tr><td><code>qiskit-nature</code></td><td>0.4.0</td></tr><tr><th>System information</th></tr><tr><td>Python version</td><td>3.10.4</td></tr><tr><td>Python compiler</td><td>GCC 7.5.0</td></tr><tr><td>Python build</td><td>main, Mar 31 2022 08:41:55</td></tr><tr><td>OS</td><td>Linux</td></tr><tr><td>CPUs</td><td>4</td></tr><tr><td>Memory (Gb)</td><td>15.401432037353516</td></tr><tr><td colspan='2'>Wed Jun 15 17:11:46 2022 CEST</td></tr></table>"
      ],
      "text/plain": [
       "<IPython.core.display.HTML object>"
      ]
     },
     "metadata": {},
     "output_type": "display_data"
    },
    {
     "data": {
      "text/html": [
       "<div style='width: 100%; background-color:#d5d9e0;padding-left: 10px; padding-bottom: 10px; padding-right: 10px; padding-top: 5px'><h3>This code is a part of Qiskit</h3><p>&copy; Copyright IBM 2017, 2022.</p><p>This code is licensed under the Apache License, Version 2.0. You may<br>obtain a copy of this license in the LICENSE.txt file in the root directory<br> of this source tree or at http://www.apache.org/licenses/LICENSE-2.0.<p>Any modifications or derivative works of this code must retain this<br>copyright notice, and modified files need to carry a notice indicating<br>that they have been altered from the originals.</p></div>"
      ],
      "text/plain": [
       "<IPython.core.display.HTML object>"
      ]
     },
     "metadata": {},
     "output_type": "display_data"
    }
   ],
   "source": [
    "import qiskit.tools.jupyter\n",
    "\n",
    "%qiskit_version_table\n",
    "%qiskit_copyright"
   ]
  },
  {
   "cell_type": "code",
   "execution_count": null,
   "id": "476bcd4b",
   "metadata": {},
   "outputs": [],
   "source": []
  }
 ],
 "metadata": {
  "interpreter": {
   "hash": "94561c5514d6ed309ef55bb744ee9b24e97b38d0ec7b9028efe679e2a743ca0e"
  },
  "kernelspec": {
   "display_name": "Python 3 (ipykernel)",
   "language": "python",
   "name": "python3"
  },
  "language_info": {
   "codemirror_mode": {
    "name": "ipython",
    "version": 3
   },
   "file_extension": ".py",
   "mimetype": "text/x-python",
   "name": "python",
   "nbconvert_exporter": "python",
   "pygments_lexer": "ipython3",
   "version": "3.10.4"
  }
 },
 "nbformat": 4,
 "nbformat_minor": 5
}
